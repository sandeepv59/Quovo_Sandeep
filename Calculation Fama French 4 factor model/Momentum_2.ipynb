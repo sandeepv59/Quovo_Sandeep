{
 "cells": [
  {
   "cell_type": "code",
   "execution_count": 1,
   "metadata": {
    "collapsed": true
   },
   "outputs": [],
   "source": [
    "%matplotlib inline"
   ]
  },
  {
   "cell_type": "code",
   "execution_count": 2,
   "metadata": {
    "collapsed": true
   },
   "outputs": [],
   "source": [
    "import pandas as pd\n",
    "import matplotlib.pyplot as plt\n",
    "import numpy as np"
   ]
  },
  {
   "cell_type": "code",
   "execution_count": 3,
   "metadata": {
    "collapsed": true
   },
   "outputs": [],
   "source": [
    "crsp_data = pd.read_csv(\"crsp_data_new.csv\",parse_dates=['date'],low_memory=False)"
   ]
  },
  {
   "cell_type": "code",
   "execution_count": 4,
   "metadata": {
    "collapsed": false
   },
   "outputs": [
    {
     "data": {
      "text/html": [
       "<div>\n",
       "<table border=\"1\" class=\"dataframe\">\n",
       "  <thead>\n",
       "    <tr style=\"text-align: right;\">\n",
       "      <th></th>\n",
       "      <th>PERMNO</th>\n",
       "      <th>date</th>\n",
       "      <th>SHRCD</th>\n",
       "      <th>SICCD</th>\n",
       "      <th>TICKER</th>\n",
       "      <th>COMNAM</th>\n",
       "      <th>PERMCO</th>\n",
       "      <th>CUSIP</th>\n",
       "      <th>DLRETX</th>\n",
       "      <th>DLRET</th>\n",
       "      <th>PRC</th>\n",
       "      <th>RET</th>\n",
       "      <th>SHROUT</th>\n",
       "      <th>RETX</th>\n",
       "    </tr>\n",
       "  </thead>\n",
       "  <tbody>\n",
       "    <tr>\n",
       "      <th>0</th>\n",
       "      <td>10000</td>\n",
       "      <td>1986-01-31</td>\n",
       "      <td>10</td>\n",
       "      <td>3990</td>\n",
       "      <td>OMFGA</td>\n",
       "      <td>OPTIMUM MANUFACTURING INC</td>\n",
       "      <td>7952</td>\n",
       "      <td>68391610</td>\n",
       "      <td>NaN</td>\n",
       "      <td>NaN</td>\n",
       "      <td>-4.37500</td>\n",
       "      <td>C</td>\n",
       "      <td>3680</td>\n",
       "      <td>C</td>\n",
       "    </tr>\n",
       "    <tr>\n",
       "      <th>1</th>\n",
       "      <td>10000</td>\n",
       "      <td>1986-02-28</td>\n",
       "      <td>10</td>\n",
       "      <td>3990</td>\n",
       "      <td>OMFGA</td>\n",
       "      <td>OPTIMUM MANUFACTURING INC</td>\n",
       "      <td>7952</td>\n",
       "      <td>68391610</td>\n",
       "      <td>NaN</td>\n",
       "      <td>NaN</td>\n",
       "      <td>-3.25000</td>\n",
       "      <td>-0.257143</td>\n",
       "      <td>3680</td>\n",
       "      <td>-0.257143</td>\n",
       "    </tr>\n",
       "    <tr>\n",
       "      <th>2</th>\n",
       "      <td>10000</td>\n",
       "      <td>1986-03-31</td>\n",
       "      <td>10</td>\n",
       "      <td>3990</td>\n",
       "      <td>OMFGA</td>\n",
       "      <td>OPTIMUM MANUFACTURING INC</td>\n",
       "      <td>7952</td>\n",
       "      <td>68391610</td>\n",
       "      <td>NaN</td>\n",
       "      <td>NaN</td>\n",
       "      <td>-4.43750</td>\n",
       "      <td>0.365385</td>\n",
       "      <td>3680</td>\n",
       "      <td>0.365385</td>\n",
       "    </tr>\n",
       "    <tr>\n",
       "      <th>3</th>\n",
       "      <td>10000</td>\n",
       "      <td>1986-04-30</td>\n",
       "      <td>10</td>\n",
       "      <td>3990</td>\n",
       "      <td>OMFGA</td>\n",
       "      <td>OPTIMUM MANUFACTURING INC</td>\n",
       "      <td>7952</td>\n",
       "      <td>68391610</td>\n",
       "      <td>NaN</td>\n",
       "      <td>NaN</td>\n",
       "      <td>-4.00000</td>\n",
       "      <td>-0.098592</td>\n",
       "      <td>3793</td>\n",
       "      <td>-0.098592</td>\n",
       "    </tr>\n",
       "    <tr>\n",
       "      <th>4</th>\n",
       "      <td>10000</td>\n",
       "      <td>1986-05-30</td>\n",
       "      <td>10</td>\n",
       "      <td>3990</td>\n",
       "      <td>OMFGA</td>\n",
       "      <td>OPTIMUM MANUFACTURING INC</td>\n",
       "      <td>7952</td>\n",
       "      <td>68391610</td>\n",
       "      <td>NaN</td>\n",
       "      <td>NaN</td>\n",
       "      <td>-3.10938</td>\n",
       "      <td>-0.222656</td>\n",
       "      <td>3793</td>\n",
       "      <td>-0.222656</td>\n",
       "    </tr>\n",
       "  </tbody>\n",
       "</table>\n",
       "</div>"
      ],
      "text/plain": [
       "   PERMNO       date  SHRCD SICCD TICKER                     COMNAM  PERMCO  \\\n",
       "0   10000 1986-01-31     10  3990  OMFGA  OPTIMUM MANUFACTURING INC    7952   \n",
       "1   10000 1986-02-28     10  3990  OMFGA  OPTIMUM MANUFACTURING INC    7952   \n",
       "2   10000 1986-03-31     10  3990  OMFGA  OPTIMUM MANUFACTURING INC    7952   \n",
       "3   10000 1986-04-30     10  3990  OMFGA  OPTIMUM MANUFACTURING INC    7952   \n",
       "4   10000 1986-05-30     10  3990  OMFGA  OPTIMUM MANUFACTURING INC    7952   \n",
       "\n",
       "      CUSIP DLRETX DLRET      PRC        RET  SHROUT       RETX  \n",
       "0  68391610    NaN   NaN -4.37500          C    3680          C  \n",
       "1  68391610    NaN   NaN -3.25000  -0.257143    3680  -0.257143  \n",
       "2  68391610    NaN   NaN -4.43750   0.365385    3680   0.365385  \n",
       "3  68391610    NaN   NaN -4.00000  -0.098592    3793  -0.098592  \n",
       "4  68391610    NaN   NaN -3.10938  -0.222656    3793  -0.222656  "
      ]
     },
     "execution_count": 4,
     "metadata": {},
     "output_type": "execute_result"
    }
   ],
   "source": [
    "crsp_data.head()"
   ]
  },
  {
   "cell_type": "code",
   "execution_count": 6,
   "metadata": {
    "collapsed": false
   },
   "outputs": [
    {
     "data": {
      "text/plain": [
       "count    24018\n",
       "mean         1\n",
       "std          0\n",
       "min          1\n",
       "25%          1\n",
       "50%          1\n",
       "75%          1\n",
       "max          1\n",
       "dtype: float64"
      ]
     },
     "execution_count": 6,
     "metadata": {},
     "output_type": "execute_result"
    }
   ],
   "source": [
    "crsp_data.groupby('CUSIP').apply(lambda x: x.PERMNO.nunique()).describe()"
   ]
  },
  {
   "cell_type": "code",
   "execution_count": 7,
   "metadata": {
    "collapsed": true
   },
   "outputs": [],
   "source": [
    "crsp_data['year'] = crsp_data.date.dt.year\n",
    "crsp_data['month'] = crsp_data.date.dt.month"
   ]
  },
  {
   "cell_type": "code",
   "execution_count": 8,
   "metadata": {
    "collapsed": true
   },
   "outputs": [],
   "source": [
    "crsp_data['PRC'] = crsp_data.PRC.abs()\n",
    "crsp_data['DLRET'] = pd.to_numeric(crsp_data.DLRET,errors='coerce')\n",
    "crsp_data['RET'] = pd.to_numeric(crsp_data.RET, errors = 'coerce')\n",
    "crsp_data['DLRETX'] = pd.to_numeric(crsp_data.DLRETX,errors='coerce')\n",
    "crsp_data['RETX'] = pd.to_numeric(crsp_data.RETX, errors = 'coerce')\n",
    "crsp_data.ix[crsp_data.DLRET.notnull(),'RET'] = crsp_data.ix[crsp_data.DLRET.notnull(),'DLRET']\n",
    "crsp_data.ix[crsp_data.DLRETX.notnull(),'RETX'] = crsp_data.ix[crsp_data.DLRETX.notnull(),'DLRETX']\n",
    "crsp_data.dropna(subset = ['RET'],inplace=True)"
   ]
  },
  {
   "cell_type": "code",
   "execution_count": 9,
   "metadata": {
    "collapsed": false
   },
   "outputs": [
    {
     "data": {
      "text/plain": [
       "PERMNO          0\n",
       "date            0\n",
       "SHRCD           0\n",
       "SICCD           0\n",
       "TICKER     167315\n",
       "COMNAM          0\n",
       "PERMCO          0\n",
       "CUSIP           0\n",
       "DLRETX    3132266\n",
       "DLRET     3132266\n",
       "PRC         17623\n",
       "RET             0\n",
       "SHROUT          0\n",
       "RETX            0\n",
       "year            0\n",
       "month           0\n",
       "dtype: int64"
      ]
     },
     "execution_count": 9,
     "metadata": {},
     "output_type": "execute_result"
    }
   ],
   "source": [
    "crsp_data.isnull().sum()"
   ]
  },
  {
   "cell_type": "code",
   "execution_count": 30,
   "metadata": {
    "collapsed": false
   },
   "outputs": [
    {
     "data": {
      "text/html": [
       "<div>\n",
       "<table border=\"1\" class=\"dataframe\">\n",
       "  <thead>\n",
       "    <tr style=\"text-align: right;\">\n",
       "      <th></th>\n",
       "      <th>PERMNO</th>\n",
       "      <th>RET</th>\n",
       "    </tr>\n",
       "    <tr>\n",
       "      <th>date</th>\n",
       "      <th></th>\n",
       "      <th></th>\n",
       "    </tr>\n",
       "  </thead>\n",
       "  <tbody>\n",
       "    <tr>\n",
       "      <th>1986-02-28</th>\n",
       "      <td>10000</td>\n",
       "      <td>-0.257143</td>\n",
       "    </tr>\n",
       "    <tr>\n",
       "      <th>1986-03-31</th>\n",
       "      <td>10000</td>\n",
       "      <td>0.365385</td>\n",
       "    </tr>\n",
       "  </tbody>\n",
       "</table>\n",
       "</div>"
      ],
      "text/plain": [
       "            PERMNO       RET\n",
       "date                        \n",
       "1986-02-28   10000 -0.257143\n",
       "1986-03-31   10000  0.365385"
      ]
     },
     "execution_count": 30,
     "metadata": {},
     "output_type": "execute_result"
    }
   ],
   "source": [
    "ret_data = crsp_data.ix[:,['PERMNO','date','RET']]\n",
    "ret_data.set_index(['date'],inplace=True)\n",
    "ret_data.head(2)"
   ]
  },
  {
   "cell_type": "code",
   "execution_count": 31,
   "metadata": {
    "collapsed": true
   },
   "outputs": [],
   "source": [
    "ret_data = ret_data.groupby('PERMNO').resample('BM').reset_index().sort_values(by = ['PERMNO','date'])"
   ]
  },
  {
   "cell_type": "code",
   "execution_count": 32,
   "metadata": {
    "collapsed": true
   },
   "outputs": [],
   "source": [
    "ret_data['l_mon_ret'] = ret_data.groupby(['PERMNO'])['RET'].apply(pd.rolling_apply, 11,\n",
    "                                                                           (lambda x:((1+x).prod())-1), 11)"
   ]
  },
  {
   "cell_type": "code",
   "execution_count": 33,
   "metadata": {
    "collapsed": true
   },
   "outputs": [],
   "source": [
    "ret_data = ret_data.sort_values(by = ['PERMNO','date'])\n",
    "ret_data['l_mon_ret'] = ret_data.groupby(['PERMNO'])['l_mon_ret'].shift(2)"
   ]
  },
  {
   "cell_type": "code",
   "execution_count": 34,
   "metadata": {
    "collapsed": false
   },
   "outputs": [],
   "source": [
    "not_avai_data = ret_data.groupby(ret_data.date.dt.year).apply(lambda x: 100*(x.isnull().sum()/len(x.isnull())))"
   ]
  },
  {
   "cell_type": "code",
   "execution_count": 35,
   "metadata": {
    "collapsed": false
   },
   "outputs": [
    {
     "data": {
      "text/plain": [
       "<matplotlib.axes._subplots.AxesSubplot at 0x11701e710>"
      ]
     },
     "execution_count": 35,
     "metadata": {},
     "output_type": "execute_result"
    },
    {
     "data": {
      "image/png": "[encoded data removed]",
      "text/plain": [
       "<matplotlib.figure.Figure at 0x116f2b4a8>"
      ]
     },
     "metadata": {},
     "output_type": "display_data"
    }
   ],
   "source": [
    "not_avai_data.RET.plot()"
   ]
  },
  {
   "cell_type": "code",
   "execution_count": 36,
   "metadata": {
    "collapsed": false
   },
   "outputs": [
    {
     "data": {
      "text/plain": [
       "<matplotlib.axes._subplots.AxesSubplot at 0x11a9f44e0>"
      ]
     },
     "execution_count": 36,
     "metadata": {},
     "output_type": "execute_result"
    },
    {
     "data": {
      "image/png": "[encoded data removed]",
      "text/plain": [
       "<matplotlib.figure.Figure at 0x11a9fdef0>"
      ]
     },
     "metadata": {},
     "output_type": "display_data"
    }
   ],
   "source": [
    "not_avai_data.l_mon_ret.plot()"
   ]
  },
  {
   "cell_type": "code",
   "execution_count": 37,
   "metadata": {
    "collapsed": true
   },
   "outputs": [],
   "source": [
    "ret_data['year'] = ret_data.date.dt.year\n",
    "ret_data['month'] = ret_data.date.dt.month"
   ]
  },
  {
   "cell_type": "code",
   "execution_count": 38,
   "metadata": {
    "collapsed": true
   },
   "outputs": [],
   "source": [
    "crsp_data['market_cap'] = (crsp_data['SHROUT'] * crsp_data['PRC'])/1000 "
   ]
  },
  {
   "cell_type": "code",
   "execution_count": 39,
   "metadata": {
    "collapsed": true
   },
   "outputs": [],
   "source": [
    "ret_data = pd.merge(ret_data, crsp_data[['PERMNO','year','month','market_cap']], on = ['PERMNO','year','month'], how = 'left')\n",
    "ret_data = ret_data.sort_values(by = ['PERMNO','year','month'])\n",
    "ret_data['l_mcap'] = ret_data.groupby(['PERMNO'])['market_cap'].shift(1)\n",
    "ret_data.drop(['RET','market_cap'],axis = 1,inplace=True)"
   ]
  },
  {
   "cell_type": "code",
   "execution_count": 40,
   "metadata": {
    "collapsed": true
   },
   "outputs": [],
   "source": [
    "crsp_data =pd.merge(crsp_data, ret_data[['PERMNO','year','month','l_mon_ret','l_mcap']], on=['PERMNO','year','month'], how ='left')"
   ]
  },
  {
   "cell_type": "code",
   "execution_count": 41,
   "metadata": {
    "collapsed": true
   },
   "outputs": [],
   "source": [
    "crsp_data.dropna(subset=['l_mon_ret','l_mcap'], how ='any',inplace=True)"
   ]
  },
  {
   "cell_type": "code",
   "execution_count": 42,
   "metadata": {
    "collapsed": true
   },
   "outputs": [],
   "source": [
    "crsp_data['Size_rank'] = crsp_data[['year','month','l_mcap']].groupby(['year','month']).rank(pct=True)['l_mcap']\n",
    "crsp_data['Size'] = np.where(crsp_data['Size_rank'] > 0.8, \"Big\",'Small')"
   ]
  },
  {
   "cell_type": "code",
   "execution_count": 43,
   "metadata": {
    "collapsed": true
   },
   "outputs": [],
   "source": [
    "crsp_data['Mom_rank'] = crsp_data[['year','month','Size',\n",
    "                                   'l_mon_ret']].groupby(['year','month','Size']).rank(pct = True)['l_mon_ret']\n",
    "crsp_data['PR1YR']  = np.nan\n",
    "crsp_data.ix[crsp_data.Mom_rank < 0.30,'PR1YR'] = \"Down\"\n",
    "crsp_data.ix[crsp_data.Mom_rank > 0.70,'PR1YR'] = \"Up\"\n",
    "crsp_data.ix[np.logical_and(crsp_data.Mom_rank <= 0.70,\n",
    "                            crsp_data.Mom_rank >= 0.30) ,'PR1YR'] = 'Medium'"
   ]
  },
  {
   "cell_type": "code",
   "execution_count": 44,
   "metadata": {
    "collapsed": true
   },
   "outputs": [],
   "source": [
    "crsp_data['port_weights'] = crsp_data[['year','month','Size','PR1YR','l_mcap']].\\\n",
    "                            groupby(['year','month','Size','PR1YR'],group_keys = False).\\\n",
    "                            apply(lambda x: (x['l_mcap'])/(x['l_mcap'].sum()))"
   ]
  },
  {
   "cell_type": "code",
   "execution_count": 45,
   "metadata": {
    "collapsed": true
   },
   "outputs": [],
   "source": [
    "penul_data = crsp_data.groupby(['year','month','Size',\n",
    "                          'PR1YR'])[['RET','port_weights']].apply(lambda g:np.average(g['RET'], weights=g['port_weights']))"
   ]
  },
  {
   "cell_type": "code",
   "execution_count": 46,
   "metadata": {
    "collapsed": true
   },
   "outputs": [],
   "source": [
    "penul_data = penul_data.unstack('Size').unstack('PR1YR').reset_index().sort_values(by=['year','month'])\n",
    "penul_data.columns = [' '.join(col).strip() for col in penul_data.columns.values]"
   ]
  },
  {
   "cell_type": "code",
   "execution_count": 47,
   "metadata": {
    "collapsed": true
   },
   "outputs": [],
   "source": [
    "penul_data['MOM'] = (0.5*(penul_data['Big Up'] + penul_data['Small Up']) - 0.5*(penul_data['Big Down'] + penul_data['Small Down']))"
   ]
  },
  {
   "cell_type": "code",
   "execution_count": 48,
   "metadata": {
    "collapsed": true
   },
   "outputs": [],
   "source": [
    "penul_data[penul_data.year>=1970].to_csv(\"Mom.csv\")"
   ]
  },
  {
   "cell_type": "code",
   "execution_count": null,
   "metadata": {
    "collapsed": true
   },
   "outputs": [],
   "source": []
  }
 ],
 "metadata": {
  "kernelspec": {
   "display_name": "Python [Root]",
   "language": "python",
   "name": "Python [Root]"
  },
  "language_info": {
   "codemirror_mode": {
    "name": "ipython",
    "version": 3
   },
   "file_extension": ".py",
   "mimetype": "text/x-python",
   "name": "python",
   "nbconvert_exporter": "python",
   "pygments_lexer": "ipython3",
   "version": "3.5.1"
  }
 },
 "nbformat": 4,
 "nbformat_minor": 0
}
